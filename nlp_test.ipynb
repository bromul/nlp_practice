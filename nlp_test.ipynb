{
 "cells": [
  {
   "cell_type": "code",
   "execution_count": 47,
   "metadata": {},
   "outputs": [],
   "source": [
    "# Set example string\n",
    "ex_string = 'The largest sows oinked as the farmers quickly sowed the fields.'"
   ]
  },
  {
   "cell_type": "code",
   "execution_count": 2,
   "metadata": {},
   "outputs": [],
   "source": [
    "# Import dependencies\n",
    "from nltk.tokenize import word_tokenize\n",
    "from nltk.stem import WordNetLemmatizer\n",
    "import nltk"
   ]
  },
  {
   "cell_type": "code",
   "execution_count": 10,
   "metadata": {},
   "outputs": [],
   "source": [
    "# Word tokenize string\n",
    "words_in_string = word_tokenize(ex_string)"
   ]
  },
  {
   "cell_type": "code",
   "execution_count": 11,
   "metadata": {},
   "outputs": [
    {
     "data": {
      "text/plain": [
       "['The',\n",
       " 'largest',\n",
       " 'sows',\n",
       " 'oinked',\n",
       " 'as',\n",
       " 'the',\n",
       " 'farmers',\n",
       " 'quickly',\n",
       " 'sowed',\n",
       " 'the',\n",
       " 'field',\n",
       " '.']"
      ]
     },
     "execution_count": 11,
     "metadata": {},
     "output_type": "execute_result"
    }
   ],
   "source": [
    "words_in_string"
   ]
  },
  {
   "cell_type": "code",
   "execution_count": 12,
   "metadata": {},
   "outputs": [],
   "source": [
    "# Create lemmatizer\n",
    "lmtzr = WordNetLemmatizer()"
   ]
  },
  {
   "cell_type": "code",
   "execution_count": 13,
   "metadata": {},
   "outputs": [],
   "source": [
    "# Test lemmatize\n",
    "lemmatized_words = [lmtzr.lemmatize(word) for word in words_in_string]"
   ]
  },
  {
   "cell_type": "code",
   "execution_count": 14,
   "metadata": {},
   "outputs": [
    {
     "data": {
      "text/plain": [
       "['The',\n",
       " 'largest',\n",
       " 'sow',\n",
       " 'oinked',\n",
       " 'a',\n",
       " 'the',\n",
       " 'farmer',\n",
       " 'quickly',\n",
       " 'sowed',\n",
       " 'the',\n",
       " 'field',\n",
       " '.']"
      ]
     },
     "execution_count": 14,
     "metadata": {},
     "output_type": "execute_result"
    }
   ],
   "source": [
    "lemmatized_words"
   ]
  },
  {
   "cell_type": "code",
   "execution_count": 15,
   "metadata": {},
   "outputs": [],
   "source": [
    "# Tag parts of speech\n",
    "words_pos = nltk.pos_tag(words_in_string)"
   ]
  },
  {
   "cell_type": "code",
   "execution_count": 40,
   "metadata": {},
   "outputs": [
    {
     "data": {
      "text/plain": [
       "[('The', 'DT'),\n",
       " ('largest', 'JJS'),\n",
       " ('sows', 'NNS'),\n",
       " ('oinked', 'VBD'),\n",
       " ('as', 'IN'),\n",
       " ('the', 'DT'),\n",
       " ('farmers', 'NNS'),\n",
       " ('quickly', 'RB'),\n",
       " ('sowed', 'VBD'),\n",
       " ('the', 'DT'),\n",
       " ('field', 'NN'),\n",
       " ('.', '.')]"
      ]
     },
     "execution_count": 40,
     "metadata": {},
     "output_type": "execute_result"
    }
   ],
   "source": [
    "words_pos"
   ]
  },
  {
   "cell_type": "code",
   "execution_count": 51,
   "metadata": {},
   "outputs": [],
   "source": [
    "# Define function to ensure each word is lemmatized as the proper part of speech\n",
    "def lemma_pos(text):\n",
    "    \n",
    "    # Dependencies\n",
    "    from nltk.corpus import wordnet as wn\n",
    "    from nltk.stem.wordnet import WordNetLemmatizer\n",
    "    from nltk import word_tokenize, pos_tag\n",
    "    from collections import defaultdict\n",
    "\n",
    "    # Create tag map\n",
    "    tag_map = defaultdict(lambda : wn.NOUN)\n",
    "    tag_map['J'] = wn.ADJ\n",
    "    tag_map['V'] = wn.VERB\n",
    "    tag_map['R'] = wn.ADV\n",
    "\n",
    "\n",
    "    tokens = word_tokenize(text)\n",
    "    lmtzr = WordNetLemmatizer()\n",
    "\n",
    "    # Initialize list\n",
    "    lemmas = []\n",
    "\n",
    "    for token, tag in pos_tag(tokens):\n",
    "        lemma = lmtzr.lemmatize(token, tag_map[tag[0]])\n",
    "        lemmas.append(lemma)\n",
    "    \n",
    "    return lemmas"
   ]
  },
  {
   "cell_type": "code",
   "execution_count": 52,
   "metadata": {},
   "outputs": [],
   "source": [
    "# Test function\n",
    "lemma_words_pos = lemma_pos(ex_string)"
   ]
  },
  {
   "cell_type": "code",
   "execution_count": 53,
   "metadata": {},
   "outputs": [
    {
     "data": {
      "text/plain": [
       "['The',\n",
       " 'large',\n",
       " 'sow',\n",
       " 'oink',\n",
       " 'a',\n",
       " 'the',\n",
       " 'farmer',\n",
       " 'quickly',\n",
       " 'sow',\n",
       " 'the',\n",
       " 'field',\n",
       " '.']"
      ]
     },
     "execution_count": 53,
     "metadata": {},
     "output_type": "execute_result"
    }
   ],
   "source": [
    "lemma_words_pos"
   ]
  }
 ],
 "metadata": {
  "kernelspec": {
   "display_name": "mlenv",
   "language": "python",
   "name": "mlenv"
  },
  "language_info": {
   "codemirror_mode": {
    "name": "ipython",
    "version": 3
   },
   "file_extension": ".py",
   "mimetype": "text/x-python",
   "name": "python",
   "nbconvert_exporter": "python",
   "pygments_lexer": "ipython3",
   "version": "3.7.11"
  },
  "orig_nbformat": 4
 },
 "nbformat": 4,
 "nbformat_minor": 2
}
